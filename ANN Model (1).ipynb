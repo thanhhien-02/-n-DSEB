{
 "cells": [
  {
   "cell_type": "code",
   "execution_count": 1,
   "id": "fdf607b9",
   "metadata": {},
   "outputs": [],
   "source": [
    "import pandas as pd\n",
    "import numpy as np\n",
    "from sklearn.model_selection import train_test_split\n",
    "from sklearn.preprocessing import StandardScaler\n",
    "import seaborn as sns"
   ]
  },
  {
   "cell_type": "code",
   "execution_count": 2,
   "id": "c7172581",
   "metadata": {},
   "outputs": [
    {
     "data": {
      "text/html": [
       "<div>\n",
       "<style scoped>\n",
       "    .dataframe tbody tr th:only-of-type {\n",
       "        vertical-align: middle;\n",
       "    }\n",
       "\n",
       "    .dataframe tbody tr th {\n",
       "        vertical-align: top;\n",
       "    }\n",
       "\n",
       "    .dataframe thead th {\n",
       "        text-align: right;\n",
       "    }\n",
       "</style>\n",
       "<table border=\"1\" class=\"dataframe\">\n",
       "  <thead>\n",
       "    <tr style=\"text-align: right;\">\n",
       "      <th></th>\n",
       "      <th>Pregnancies</th>\n",
       "      <th>Glucose</th>\n",
       "      <th>BloodPressure</th>\n",
       "      <th>SkinThickness</th>\n",
       "      <th>Insulin</th>\n",
       "      <th>BMI</th>\n",
       "      <th>DiabetesPedigreeFunction</th>\n",
       "      <th>Age</th>\n",
       "      <th>Outcome</th>\n",
       "    </tr>\n",
       "  </thead>\n",
       "  <tbody>\n",
       "    <tr>\n",
       "      <th>0</th>\n",
       "      <td>6</td>\n",
       "      <td>148</td>\n",
       "      <td>72</td>\n",
       "      <td>35</td>\n",
       "      <td>0</td>\n",
       "      <td>33.6</td>\n",
       "      <td>0.627</td>\n",
       "      <td>50</td>\n",
       "      <td>1</td>\n",
       "    </tr>\n",
       "    <tr>\n",
       "      <th>1</th>\n",
       "      <td>1</td>\n",
       "      <td>85</td>\n",
       "      <td>66</td>\n",
       "      <td>29</td>\n",
       "      <td>0</td>\n",
       "      <td>26.6</td>\n",
       "      <td>0.351</td>\n",
       "      <td>31</td>\n",
       "      <td>0</td>\n",
       "    </tr>\n",
       "    <tr>\n",
       "      <th>2</th>\n",
       "      <td>8</td>\n",
       "      <td>183</td>\n",
       "      <td>64</td>\n",
       "      <td>0</td>\n",
       "      <td>0</td>\n",
       "      <td>23.3</td>\n",
       "      <td>0.672</td>\n",
       "      <td>32</td>\n",
       "      <td>1</td>\n",
       "    </tr>\n",
       "    <tr>\n",
       "      <th>3</th>\n",
       "      <td>1</td>\n",
       "      <td>89</td>\n",
       "      <td>66</td>\n",
       "      <td>23</td>\n",
       "      <td>94</td>\n",
       "      <td>28.1</td>\n",
       "      <td>0.167</td>\n",
       "      <td>21</td>\n",
       "      <td>0</td>\n",
       "    </tr>\n",
       "    <tr>\n",
       "      <th>4</th>\n",
       "      <td>0</td>\n",
       "      <td>137</td>\n",
       "      <td>40</td>\n",
       "      <td>35</td>\n",
       "      <td>168</td>\n",
       "      <td>43.1</td>\n",
       "      <td>2.288</td>\n",
       "      <td>33</td>\n",
       "      <td>1</td>\n",
       "    </tr>\n",
       "  </tbody>\n",
       "</table>\n",
       "</div>"
      ],
      "text/plain": [
       "   Pregnancies  Glucose  BloodPressure  SkinThickness  Insulin   BMI  \\\n",
       "0            6      148             72             35        0  33.6   \n",
       "1            1       85             66             29        0  26.6   \n",
       "2            8      183             64              0        0  23.3   \n",
       "3            1       89             66             23       94  28.1   \n",
       "4            0      137             40             35      168  43.1   \n",
       "\n",
       "   DiabetesPedigreeFunction  Age  Outcome  \n",
       "0                     0.627   50        1  \n",
       "1                     0.351   31        0  \n",
       "2                     0.672   32        1  \n",
       "3                     0.167   21        0  \n",
       "4                     2.288   33        1  "
      ]
     },
     "execution_count": 2,
     "metadata": {},
     "output_type": "execute_result"
    }
   ],
   "source": [
    "df = pd.read_csv('diabetes.csv')\n",
    "df.head()"
   ]
  },
  {
   "cell_type": "code",
   "execution_count": 3,
   "id": "5091a4d5",
   "metadata": {},
   "outputs": [
    {
     "data": {
      "text/plain": [
       "<Axes: xlabel='Outcome', ylabel='count'>"
      ]
     },
     "execution_count": 3,
     "metadata": {},
     "output_type": "execute_result"
    },
    {
     "data": {
      "image/png": "[encoded data removed]",
      "text/plain": [
       "<Figure size 640x480 with 1 Axes>"
      ]
     },
     "metadata": {},
     "output_type": "display_data"
    }
   ],
   "source": [
    "sns.countplot(x = 'Outcome', data = df)"
   ]
  },
  {
   "cell_type": "code",
   "execution_count": 4,
   "id": "52a2a5b7",
   "metadata": {},
   "outputs": [
    {
     "name": "stdout",
     "output_type": "stream",
     "text": [
      "No of zero values in Glucose 5\n",
      "No of zero values in BloodPressure 35\n",
      "No of zero values in SkinThickness 227\n",
      "No of zero values in Insulin 374\n",
      "No of zero values in BMI 11\n",
      "No of zero values in DiabetesPedigreeFunction 0\n",
      "No of zero values in Age 0\n"
     ]
    }
   ],
   "source": [
    "print('No of zero values in Glucose', df[df['Glucose'] == 0].shape[0])\n",
    "print('No of zero values in BloodPressure', df[df['BloodPressure'] == 0].shape[0])\n",
    "print('No of zero values in SkinThickness', df[df['SkinThickness'] == 0].shape[0])\n",
    "print('No of zero values in Insulin', df[df['Insulin'] == 0].shape[0])\n",
    "print('No of zero values in BMI', df[df['BMI'] == 0].shape[0])\n",
    "print('No of zero values in DiabetesPedigreeFunction', df[df['DiabetesPedigreeFunction'] == 0].shape[0])\n",
    "print('No of zero values in Age', df[df['Age'] == 0].shape[0])"
   ]
  },
  {
   "cell_type": "code",
   "execution_count": 5,
   "id": "d5d2f0fa",
   "metadata": {},
   "outputs": [
    {
     "name": "stdout",
     "output_type": "stream",
     "text": [
      "No of zero values in Glucose 0\n",
      "No of zero values in BloodPressure 0\n",
      "No of zero values in SkinThickness 0\n",
      "No of zero values in Insulin 0\n",
      "No of zero values in BMI 0\n"
     ]
    }
   ],
   "source": [
    "#Replace zero values with the mean of that columns\n",
    "\n",
    "df['Glucose'] = df['Glucose'].replace(0, df['Glucose'].mean())\n",
    "print('No of zero values in Glucose', df[df['Glucose'] == 0].shape[0])\n",
    "\n",
    "df['BloodPressure'] = df['BloodPressure'].replace(0, df['BloodPressure'].mean())\n",
    "print('No of zero values in BloodPressure', df[df['BloodPressure'] == 0].shape[0])\n",
    "\n",
    "df['SkinThickness'] = df['SkinThickness'].replace(0, df['SkinThickness'].mean())\n",
    "print('No of zero values in SkinThickness', df[df['SkinThickness'] == 0].shape[0])\n",
    "\n",
    "df['Insulin'] = df['Insulin'].replace(0, df['Insulin'].mean())\n",
    "print('No of zero values in Insulin', df[df['Insulin'] == 0].shape[0])\n",
    "\n",
    "df['BMI'] = df['BMI'].replace(0, df['BMI'].mean())\n",
    "print('No of zero values in BMI', df[df['BMI'] == 0].shape[0])"
   ]
  },
  {
   "cell_type": "code",
   "execution_count": 6,
   "id": "ad0e66fa",
   "metadata": {},
   "outputs": [],
   "source": [
    "df['N0'] = df['BMI'] * df['SkinThickness']\n",
    "df.loc[:,'N1']=0\n",
    "df.loc[(df['Age']<=30) & (df['Glucose']<=120),'N1']=1\n",
    "df.loc[:,'N2']=0\n",
    "df.loc[(df['BMI']<=30),'N2']=1\n",
    "df.loc[:,'N3']=0\n",
    "df.loc[(df['Age']<=30) & (df['Pregnancies']<=6),'N3']=1\n",
    "df.loc[:,'N4']=0\n",
    "df.loc[(df['Glucose']<=105) & (df['BloodPressure']<=80),'N4']=1\n",
    "df.loc[:,'N5']=0\n",
    "df.loc[(df['SkinThickness']<=20) ,'N5']=1\n",
    "df.loc[:,'N6']=0\n",
    "df.loc[(df['BMI']<30) & (df['SkinThickness']<=20),'N6']=1\n",
    "df.loc[:,'N7']=0\n",
    "df.loc[(df['Glucose']<=105) & (df['BMI']<=30),'N7']=1\n",
    "df['N8'] =  df['Pregnancies'] / df['Age']\n",
    "df.loc[:,'N9']=0\n",
    "df.loc[(df['Insulin']<200),'N9']=1\n",
    "df.loc[:,'N10']=0\n",
    "df.loc[(df['BloodPressure']<80),'N10']=1\n",
    "df.loc[:,'N11']=0\n",
    "df.loc[(df['Pregnancies']<4) & (df['Pregnancies']!=0) ,'N11']=1\n",
    "df['N12'] = df['Age'] * df['DiabetesPedigreeFunction']\n",
    "df['N13'] = df['Glucose'] / df['DiabetesPedigreeFunction']\n",
    "df['N14'] = df['Age'] / df['Insulin']"
   ]
  },
  {
   "cell_type": "code",
   "execution_count": 7,
   "id": "1295bd6d",
   "metadata": {},
   "outputs": [],
   "source": [
    "from sklearn. preprocessing import LabelEncoder\n",
    "target_col = [\"Outcome\"]\n",
    "cat_cols   = df.nunique()[df.nunique() < 12].keys().tolist()\n",
    "cat_cols   = [x for x in cat_cols ]\n",
    "#numerical columns\n",
    "num_cols   = [x for x in df.columns if x not in cat_cols + target_col]\n",
    "#Binary columns with 2 values\n",
    "bin_cols   = df.nunique()[df.nunique() == 2].keys().tolist()\n",
    "#Columns more than 2 values\n",
    "multi_cols = [i for i in cat_cols if i not in bin_cols]\n",
    "\n",
    "#Label encoding Binary columns\n",
    "le = LabelEncoder()\n",
    "for i in bin_cols :\n",
    "    df[i] = le.fit_transform(df[i])\n",
    "    \n",
    "#Duplicating columns for multi value columns\n",
    "df = pd.get_dummies(data = df,columns = multi_cols )\n",
    "\n",
    "#Scaling Numerical columns\n",
    "std = StandardScaler()\n",
    "scaled = std.fit_transform(df[num_cols])\n",
    "scaled = pd.DataFrame(scaled,columns=num_cols)\n",
    "\n",
    "#dropping original values merging scaled values for numerical columns\n",
    "df_data_og = df.copy()\n",
    "df = df.drop(columns = num_cols,axis = 1)\n",
    "df = df.merge(scaled,left_index=True,right_index=True,how = \"left\")"
   ]
  },
  {
   "cell_type": "code",
   "execution_count": 8,
   "id": "873f5c26",
   "metadata": {},
   "outputs": [],
   "source": [
    "X = df.drop('Outcome', axis = 1).values\n",
    "y = df['Outcome'].values"
   ]
  },
  {
   "cell_type": "code",
   "execution_count": 9,
   "id": "933e5c9e",
   "metadata": {},
   "outputs": [],
   "source": [
    "scaler = StandardScaler()\n",
    "scaler.fit(X)\n",
    "SSX = scaler.transform(X)"
   ]
  },
  {
   "cell_type": "code",
   "execution_count": 10,
   "id": "3ea0a569",
   "metadata": {},
   "outputs": [],
   "source": [
    "X_train, X_test, y_train, y_test = train_test_split(SSX, y, test_size = 0.2, random_state = 0)"
   ]
  },
  {
   "cell_type": "code",
   "execution_count": 11,
   "id": "9facc0fb",
   "metadata": {},
   "outputs": [],
   "source": [
    "import torch\n",
    "import torch.nn as nn\n",
    "import torch.nn.functional as F"
   ]
  },
  {
   "cell_type": "code",
   "execution_count": 12,
   "id": "71237272",
   "metadata": {},
   "outputs": [],
   "source": [
    "X_train = torch.FloatTensor(X_train)\n",
    "X_test = torch.FloatTensor(X_test)\n",
    "y_train = torch.LongTensor(y_train)\n",
    "y_test = torch.LongTensor(y_test)"
   ]
  },
  {
   "cell_type": "code",
   "execution_count": 13,
   "id": "f4dcb211",
   "metadata": {},
   "outputs": [],
   "source": [
    "class ANN_Model(nn.Module):\n",
    "    def __init__(self, input_features = 23, hidden1 = 100, hidden2 = 100, hidden3 = 100, out_features = 2):\n",
    "        super().__init__()\n",
    "        self.f_connected1 = nn.Linear(input_features, hidden1)\n",
    "        self.f_connected2 = nn.Linear(hidden1, hidden2)\n",
    "        self.f_connected3 = nn.Linear(hidden2, hidden3)\n",
    "        self.out = nn.Linear(hidden3, out_features)\n",
    "    \n",
    "    def forward(self,x):\n",
    "        x = F.relu(self.f_connected1(x))\n",
    "        x = F.relu(self.f_connected2(x))\n",
    "        x = F.relu(self.f_connected3(x))\n",
    "        x = self.out(x)\n",
    "        return x"
   ]
  },
  {
   "cell_type": "code",
   "execution_count": 14,
   "id": "1a53138a",
   "metadata": {},
   "outputs": [],
   "source": [
    "torch.manual_seed(20)\n",
    "model = ANN_Model()"
   ]
  },
  {
   "cell_type": "code",
   "execution_count": 15,
   "id": "aebe9a2f",
   "metadata": {},
   "outputs": [
    {
     "data": {
      "text/plain": [
       "<bound method Module.parameters of ANN_Model(\n",
       "  (f_connected1): Linear(in_features=23, out_features=100, bias=True)\n",
       "  (f_connected2): Linear(in_features=100, out_features=100, bias=True)\n",
       "  (f_connected3): Linear(in_features=100, out_features=100, bias=True)\n",
       "  (out): Linear(in_features=100, out_features=2, bias=True)\n",
       ")>"
      ]
     },
     "execution_count": 15,
     "metadata": {},
     "output_type": "execute_result"
    }
   ],
   "source": [
    "model.parameters"
   ]
  },
  {
   "cell_type": "code",
   "execution_count": 16,
   "id": "544276e1",
   "metadata": {},
   "outputs": [],
   "source": [
    "loss_function = nn.CrossEntropyLoss()\n",
    "optimizer = torch.optim.Adam(model.parameters(), lr = 0.01)"
   ]
  },
  {
   "cell_type": "code",
   "execution_count": 17,
   "id": "61538e8a",
   "metadata": {},
   "outputs": [
    {
     "name": "stdout",
     "output_type": "stream",
     "text": [
      "Epochs number: 1 and the loss : 0.715112566947937\n",
      "Epochs number: 11 and the loss : 0.4171816110610962\n",
      "Epochs number: 21 and the loss : 0.2943916916847229\n",
      "Epochs number: 31 and the loss : 0.15608003735542297\n",
      "Epochs number: 41 and the loss : 0.07178802043199539\n",
      "Epochs number: 51 and the loss : 0.04631698131561279\n",
      "Epochs number: 61 and the loss : 0.03891858458518982\n",
      "Epochs number: 71 and the loss : 0.012960889376699924\n",
      "Epochs number: 81 and the loss : 0.004142787307500839\n",
      "Epochs number: 91 and the loss : 0.0022935711313039064\n",
      "Epochs number: 101 and the loss : 0.001527834334410727\n",
      "Epochs number: 111 and the loss : 0.0011614739196375012\n",
      "Epochs number: 121 and the loss : 0.0009381602867506444\n",
      "Epochs number: 131 and the loss : 0.0007977472268976271\n",
      "Epochs number: 141 and the loss : 0.0006922368775121868\n",
      "Epochs number: 151 and the loss : 0.0006104091298766434\n",
      "Epochs number: 161 and the loss : 0.0005424377741292119\n",
      "Epochs number: 171 and the loss : 0.0004852314596064389\n",
      "Epochs number: 181 and the loss : 0.0004343514156062156\n",
      "Epochs number: 191 and the loss : 0.0003889277868438512\n",
      "Epochs number: 201 and the loss : 0.00035203236620873213\n",
      "Epochs number: 211 and the loss : 0.00031943165231496096\n",
      "Epochs number: 221 and the loss : 0.0002909401373472065\n",
      "Epochs number: 231 and the loss : 0.0002660294994711876\n",
      "Epochs number: 241 and the loss : 0.0002439224481349811\n",
      "Epochs number: 251 and the loss : 0.00022434991842601448\n",
      "Epochs number: 261 and the loss : 0.00020711851539090276\n",
      "Epochs number: 271 and the loss : 0.00019172075553797185\n",
      "Epochs number: 281 and the loss : 0.00017795036546885967\n",
      "Epochs number: 291 and the loss : 0.00015582042396999896\n",
      "Epochs number: 301 and the loss : 0.00014060724060982466\n",
      "Epochs number: 311 and the loss : 0.00013134873006492853\n",
      "Epochs number: 321 and the loss : 0.00012284924741834402\n",
      "Epochs number: 331 and the loss : 0.00011520487896632403\n",
      "Epochs number: 341 and the loss : 0.00010826849029399455\n",
      "Epochs number: 351 and the loss : 0.0001019540723063983\n",
      "Epochs number: 361 and the loss : 9.616064198780805e-05\n",
      "Epochs number: 371 and the loss : 9.084407793125138e-05\n",
      "Epochs number: 381 and the loss : 8.594116661697626e-05\n",
      "Epochs number: 391 and the loss : 8.141767466440797e-05\n",
      "Epochs number: 401 and the loss : 7.724017632426694e-05\n",
      "Epochs number: 411 and the loss : 7.337291754083708e-05\n",
      "Epochs number: 421 and the loss : 6.979499448789284e-05\n",
      "Epochs number: 431 and the loss : 6.645847315667197e-05\n",
      "Epochs number: 441 and the loss : 6.335222133202478e-05\n",
      "Epochs number: 451 and the loss : 6.045102054486051e-05\n",
      "Epochs number: 461 and the loss : 5.774478995590471e-05\n",
      "Epochs number: 471 and the loss : 5.521449929801747e-05\n",
      "Epochs number: 481 and the loss : 5.28500386280939e-05\n",
      "Epochs number: 491 and the loss : 5.0625789299374446e-05\n"
     ]
    }
   ],
   "source": [
    "epochs = 500\n",
    "final_losses = []\n",
    "for i in range(epochs):\n",
    "    i = i + 1\n",
    "    y_pred = model.forward(X_train)\n",
    "    loss = loss_function(y_pred, y_train)\n",
    "    final_losses.append(loss)\n",
    "    \n",
    "    if i%10 == 1:\n",
    "        print(\"Epochs number: {} and the loss : {}\".format(i, loss.item()))\n",
    "    \n",
    "    optimizer.zero_grad()\n",
    "    loss.backward()\n",
    "    optimizer.step()"
   ]
  },
  {
   "cell_type": "code",
   "execution_count": 18,
   "id": "116d4692",
   "metadata": {},
   "outputs": [],
   "source": [
    "#plot the loss function\n",
    "import matplotlib.pyplot as plt\n",
    "%matplotlib inline"
   ]
  },
  {
   "cell_type": "code",
   "execution_count": 19,
   "id": "f714343c",
   "metadata": {
    "scrolled": false
   },
   "outputs": [
    {
     "data": {
      "image/png": "[encoded data removed]",
      "text/plain": [
       "<Figure size 640x480 with 1 Axes>"
      ]
     },
     "metadata": {},
     "output_type": "display_data"
    }
   ],
   "source": [
    "fi_los = [fl.item() for fl in final_losses]\n",
    "plt.plot(range(epochs), fi_los)\n",
    "plt.ylabel('Loss')\n",
    "plt.xlabel('Epoch');"
   ]
  },
  {
   "cell_type": "code",
   "execution_count": 20,
   "id": "49f7e3d3",
   "metadata": {},
   "outputs": [
    {
     "name": "stdout",
     "output_type": "stream",
     "text": [
      "1\n",
      "1\n",
      "0\n",
      "1\n",
      "0\n",
      "0\n",
      "1\n",
      "1\n",
      "1\n",
      "1\n",
      "1\n",
      "1\n",
      "0\n",
      "0\n",
      "0\n",
      "1\n",
      "1\n",
      "0\n",
      "0\n",
      "0\n",
      "1\n",
      "0\n",
      "0\n",
      "0\n",
      "0\n",
      "0\n",
      "0\n",
      "1\n",
      "0\n",
      "0\n",
      "0\n",
      "0\n",
      "0\n",
      "1\n",
      "0\n",
      "1\n",
      "1\n",
      "0\n",
      "0\n",
      "1\n",
      "0\n",
      "0\n",
      "0\n",
      "1\n",
      "1\n",
      "0\n",
      "0\n",
      "0\n",
      "1\n",
      "0\n",
      "1\n",
      "0\n",
      "1\n",
      "1\n",
      "0\n",
      "0\n",
      "0\n",
      "0\n",
      "0\n",
      "0\n",
      "1\n",
      "1\n",
      "0\n",
      "1\n",
      "1\n",
      "1\n",
      "1\n",
      "0\n",
      "1\n",
      "0\n",
      "0\n",
      "1\n",
      "0\n",
      "1\n",
      "1\n",
      "0\n",
      "0\n",
      "0\n",
      "0\n",
      "0\n",
      "0\n",
      "0\n",
      "1\n",
      "0\n",
      "0\n",
      "0\n",
      "1\n",
      "1\n",
      "1\n",
      "0\n",
      "0\n",
      "0\n",
      "1\n",
      "0\n",
      "1\n",
      "0\n",
      "1\n",
      "1\n",
      "0\n",
      "0\n",
      "0\n",
      "0\n",
      "0\n",
      "0\n",
      "1\n",
      "1\n",
      "0\n",
      "1\n",
      "0\n",
      "0\n",
      "0\n",
      "0\n",
      "1\n",
      "1\n",
      "1\n",
      "1\n",
      "0\n",
      "1\n",
      "0\n",
      "1\n",
      "0\n",
      "0\n",
      "0\n",
      "0\n",
      "0\n",
      "0\n",
      "0\n",
      "1\n",
      "0\n",
      "0\n",
      "0\n",
      "0\n",
      "0\n",
      "0\n",
      "0\n",
      "0\n",
      "0\n",
      "0\n",
      "1\n",
      "0\n",
      "0\n",
      "1\n",
      "0\n",
      "0\n",
      "1\n",
      "0\n",
      "0\n",
      "0\n",
      "0\n",
      "0\n",
      "0\n",
      "0\n",
      "0\n",
      "1\n"
     ]
    }
   ],
   "source": [
    "predictions = []\n",
    "with torch.no_grad():\n",
    "    for i, data in enumerate(X_test):\n",
    "        y_pred = model(data)\n",
    "        predictions.append(y_pred.argmax().item())\n",
    "        print(y_pred.argmax().item())"
   ]
  },
  {
   "cell_type": "code",
   "execution_count": 21,
   "id": "fb35394c",
   "metadata": {},
   "outputs": [],
   "source": [
    "from sklearn.metrics import confusion_matrix\n",
    "cm = confusion_matrix(y_test, predictions)"
   ]
  },
  {
   "cell_type": "code",
   "execution_count": 22,
   "id": "1af3bf2b",
   "metadata": {},
   "outputs": [
    {
     "data": {
      "text/plain": [
       "Text(95.72222222222221, 0.5, 'Predicted Value')"
      ]
     },
     "execution_count": 22,
     "metadata": {},
     "output_type": "execute_result"
    },
    {
     "data": {
      "image/png": "[encoded data removed]",
      "text/plain": [
       "<Figure size 1000x1000 with 2 Axes>"
      ]
     },
     "metadata": {},
     "output_type": "display_data"
    }
   ],
   "source": [
    "plt.figure(figsize = (10, 10))\n",
    "sns.heatmap(cm, annot = True)\n",
    "plt.xlabel('Actual Value')\n",
    "plt.ylabel('Predicted Value')"
   ]
  },
  {
   "cell_type": "code",
   "execution_count": 23,
   "id": "dc2acb0a",
   "metadata": {},
   "outputs": [
    {
     "data": {
      "text/plain": [
       "0.7532467532467533"
      ]
     },
     "execution_count": 23,
     "metadata": {},
     "output_type": "execute_result"
    }
   ],
   "source": [
    "from sklearn.metrics import accuracy_score\n",
    "score = accuracy_score(y_test, predictions)\n",
    "score"
   ]
  },
  {
   "cell_type": "code",
   "execution_count": 24,
   "id": "3c85e9ca",
   "metadata": {},
   "outputs": [],
   "source": [
    "from sklearn.metrics import classification_report, confusion_matrix\n",
    "from sklearn.metrics import accuracy_score, roc_auc_score, roc_curve"
   ]
  },
  {
   "cell_type": "code",
   "execution_count": 25,
   "id": "3784372a",
   "metadata": {},
   "outputs": [
    {
     "name": "stdout",
     "output_type": "stream",
     "text": [
      "ROC AUC SCORE of ANN is 0.7329488964008749\n"
     ]
    }
   ],
   "source": [
    "auc = roc_auc_score(y_test, predictions)\n",
    "print('ROC AUC SCORE of ANN is', auc)"
   ]
  },
  {
   "cell_type": "code",
   "execution_count": 26,
   "id": "c1ccd730",
   "metadata": {},
   "outputs": [
    {
     "data": {
      "image/png": "[encoded data removed]",
      "text/plain": [
       "<Figure size 640x480 with 1 Axes>"
      ]
     },
     "metadata": {},
     "output_type": "display_data"
    }
   ],
   "source": [
    "fpr, tpr, thresholds = roc_curve(y_test, predictions)\n",
    "plt.plot(fpr, tpr, color = 'orange', label = 'ROC')\n",
    "plt.plot([0,1],[0,1], color = 'darkblue', linestyle ='--', label = 'ROC curve (area = %0.2f)' %auc)\n",
    "plt.xlabel('False Positive Rate')\n",
    "plt.ylabel('True Positive Rate')\n",
    "plt.legend()\n",
    "plt.grid()\n",
    "plt.show()"
   ]
  },
  {
   "cell_type": "code",
   "execution_count": null,
   "id": "0377d01c",
   "metadata": {},
   "outputs": [],
   "source": []
  },
  {
   "cell_type": "code",
   "execution_count": null,
   "id": "6d2b56b9",
   "metadata": {},
   "outputs": [],
   "source": []
  }
 ],
 "metadata": {
  "kernelspec": {
   "display_name": "Python 3 (ipykernel)",
   "language": "python",
   "name": "python3"
  },
  "language_info": {
   "codemirror_mode": {
    "name": "ipython",
    "version": 3
   },
   "file_extension": ".py",
   "mimetype": "text/x-python",
   "name": "python",
   "nbconvert_exporter": "python",
   "pygments_lexer": "ipython3",
   "version": "3.8.18"
  }
 },
 "nbformat": 4,
 "nbformat_minor": 5
}
